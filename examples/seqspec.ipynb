{
  "nbformat": 4,
  "nbformat_minor": 0,
  "metadata": {
    "colab": {
      "provenance": [],
      "authorship_tag": "ABX9TyOmmJiRncYoYvVblcaOQIdG",
      "include_colab_link": true
    },
    "kernelspec": {
      "name": "python3",
      "display_name": "Python 3"
    },
    "language_info": {
      "name": "python"
    }
  },
  "cells": [
    {
      "cell_type": "markdown",
      "metadata": {
        "id": "view-in-github",
        "colab_type": "text"
      },
      "source": [
        "<a href=\"https://colab.research.google.com/github/IGVF/seqspec/blob/main/examples/seqspec.ipynb\" target=\"_parent\"><img src=\"https://colab.research.google.com/assets/colab-badge.svg\" alt=\"Open In Colab\"/></a>"
      ]
    },
    {
      "cell_type": "code",
      "execution_count": 1,
      "metadata": {
        "id": "JGcRslgqu2Jj",
        "colab": {
          "base_uri": "https://localhost:8080/"
        },
        "outputId": "fd9aea5f-19ba-423c-bf77-a2a3c5ea44db"
      },
      "outputs": [
        {
          "output_type": "stream",
          "name": "stdout",
          "text": [
            "Cloning into 'seqspec'...\n",
            "remote: Enumerating objects: 1175, done.\u001b[K\n",
            "remote: Counting objects: 100% (413/413), done.\u001b[K\n",
            "remote: Compressing objects: 100% (171/171), done.\u001b[K\n",
            "remote: Total 1175 (delta 298), reused 291 (delta 227), pack-reused 762\u001b[K\n",
            "Receiving objects: 100% (1175/1175), 5.32 MiB | 7.98 MiB/s, done.\n",
            "Resolving deltas: 100% (749/749), done.\n",
            "  Preparing metadata (setup.py) ... \u001b[?25l\u001b[?25hdone\n",
            "  Building wheel for seqspec (setup.py) ... \u001b[?25l\u001b[?25hdone\n"
          ]
        }
      ],
      "source": [
        "!rm -rf seqspec\n",
        "!git clone https://github.com/igvf/seqspec\n",
        "!cd seqspec && pip install --quiet ."
      ]
    },
    {
      "cell_type": "code",
      "source": [
        "!head seqspec/assays/10x-RNA-v2/spec.yaml"
      ],
      "metadata": {
        "colab": {
          "base_uri": "https://localhost:8080/"
        },
        "id": "aGY-aZPsvpQF",
        "outputId": "34626587-91ca-4021-8b9b-4dff710e2a5e"
      },
      "execution_count": 2,
      "outputs": [
        {
          "output_type": "stream",
          "name": "stdout",
          "text": [
            "!Assay\n",
            "name: 10x-RNA-v2\n",
            "doi: https://doi.org/10.1038/ncomms14049\n",
            "publication_date: null\n",
            "description: The 10x Genomics Chromium Single Cell 3' Solution V2 chemistry\n",
            "modalities:\n",
            "- RNA\n",
            "lib_struct: https://teichlab.github.io/scg_lib_structs/methods_html/10xChromium3.html\n",
            "assay_spec:\n",
            "- !Region\n"
          ]
        }
      ]
    },
    {
      "cell_type": "code",
      "source": [
        "!seqspec print seqspec/assays/10x-RNA-v2/spec.yaml"
      ],
      "metadata": {
        "colab": {
          "base_uri": "https://localhost:8080/"
        },
        "id": "W3dFyJyAvzvx",
        "outputId": "c85bc04a-efd9-4a8c-f795-506cba688865"
      },
      "execution_count": 3,
      "outputs": [
        {
          "output_type": "stream",
          "name": "stdout",
          "text": [
            "# 10x-RNA-v2\n",
            "- DOI: [https://doi.org/10.1038/ncomms14049](https://doi.org/10.1038/ncomms14049)\n",
            "- Description: The 10x Genomics Chromium Single Cell 3' Solution V2 chemistry\n",
            "- Modalities: RNA\n",
            "    \n",
            "## Final Library\n",
            "###### RNA\n",
            "<pre style=\"overflow-x: auto; text-align: left; background-color: #f6f8fa\">AATGATACGGCGACCACCGAGATCTACACTCTTTCCCTACACGACGCTCTTCCGATCTNNNNNNNNNNNNNNNNNNNNNNNNNNNNXAGATCGGAAGAGCACACGTCTGAACTCCAGTCACNNNNNNNNATCTCGTATGCCGTCTTCTGCTTG</pre>\n",
            "1. <details><summary>Illumina P5</summary>\n",
            "\n",
            "   - region_type: illumina_p5\n",
            "   - sequence_type: fixed\n",
            "   - sequence: <pre style=\"overflow-x: auto; text-align: left; margin: 0; display: inline;\">AATGATACGGCGACCACCGAGATCTACAC</pre>\n",
            "   - min_len: 29\n",
            "   - max_len: 29\n",
            "   - onlist: None\n",
            "   </details>\n",
            "2. <details><summary>Truseq Read 1</summary>\n",
            "\n",
            "   - region_type: truseq_read1\n",
            "   - sequence_type: fixed\n",
            "   - sequence: <pre style=\"overflow-x: auto; text-align: left; margin: 0; display: inline;\">TCTTTCCCTACACGACGCTCTTCCGATCT</pre>\n",
            "   - min_len: 10\n",
            "   - max_len: 10\n",
            "   - onlist: None\n",
            "   </details>\n",
            "3. <details><summary>Read 1 FASTQ</summary>\n",
            "\n",
            "   - region_type: fastq\n",
            "   - sequence_type: None\n",
            "   - sequence: <pre style=\"overflow-x: auto; text-align: left; margin: 0; display: inline;\">NNNNNNNNNNNNNNNNNNNNNNNNNNNN</pre>\n",
            "   - min_len: 26\n",
            "   - max_len: 26\n",
            "   - onlist: None\n",
            "   </details>\n",
            "4. <details><summary>Read 2 FASTQ</summary>\n",
            "\n",
            "   - region_type: fastq\n",
            "   - sequence_type: None\n",
            "   - sequence: <pre style=\"overflow-x: auto; text-align: left; margin: 0; display: inline;\">X</pre>\n",
            "   - min_len: 1\n",
            "   - max_len: 98\n",
            "   - onlist: None\n",
            "   </details>\n",
            "5. <details><summary>Truseq Read 2</summary>\n",
            "\n",
            "   - region_type: truseq_read2\n",
            "   - sequence_type: fixed\n",
            "   - sequence: <pre style=\"overflow-x: auto; text-align: left; margin: 0; display: inline;\">AGATCGGAAGAGCACACGTCTGAACTCCAGTCAC</pre>\n",
            "   - min_len: 34\n",
            "   - max_len: 34\n",
            "   - onlist: None\n",
            "   </details>\n",
            "6. <details><summary>Index Read 2</summary>\n",
            "\n",
            "   - region_type: fastq\n",
            "   - sequence_type: None\n",
            "   - sequence: <pre style=\"overflow-x: auto; text-align: left; margin: 0; display: inline;\">NNNNNNNN</pre>\n",
            "   - min_len: 8\n",
            "   - max_len: 8\n",
            "   - onlist: None\n",
            "   </details>\n",
            "7. <details><summary>Illumina P7</summary>\n",
            "\n",
            "   - region_type: illumina_p7\n",
            "   - sequence_type: fixed\n",
            "   - sequence: <pre style=\"overflow-x: auto; text-align: left; margin: 0; display: inline;\">ATCTCGTATGCCGTCTTCTGCTTG</pre>\n",
            "   - min_len: 24\n",
            "   - max_len: 24\n",
            "   - onlist: None\n",
            "   </details>\n"
          ]
        }
      ]
    },
    {
      "cell_type": "code",
      "source": [
        "!seqspec check seqspec/assays/10x-RNA-v2/spec.yaml"
      ],
      "metadata": {
        "id": "EqMqtB_uv2OL",
        "outputId": "cf11be9e-1c27-4038-e09c-8f60b367b701",
        "colab": {
          "base_uri": "https://localhost:8080/"
        }
      },
      "execution_count": 4,
      "outputs": [
        {
          "output_type": "stream",
          "name": "stdout",
          "text": [
            "[error 1] {'name': '10x-RNA-v2', 'doi': 'https://doi.org/10.1038/ncomms14049', 'publication_date': None, 'description': \"The 10x Genomics Chromium Single Cell 3' Solution V2 chemistry\", 'modalities': ['RNA'], 'lib_struct': 'https://teichlab.github.io/scg_lib_structs/methods_html/10xChromium3.html', 'assay_spec': [{'region_id': 'RNA', 'region_type': 'RNA', 'name': 'RNA', 'sequence_type': 'joined', 'onlist': None, 'sequence': 'AATGATACGGCGACCACCGAGATCTACACTCTTTCCCTACACGACGCTCTTCCGATCTNNNNNNNNNNNNNNNNNNNNNNNNNNNNXAGATCGGAAGAGCACACGTCTGAACTCCAGTCACNNNNNNNNATCTCGTATGCCGTCTTCTGCTTG', 'min_len': 132, 'max_len': 229, 'regions': [{'region_id': 'illumina_p5', 'region_type': 'illumina_p5', 'name': 'Illumina P5', 'sequence_type': 'fixed', 'onlist': None, 'sequence': 'AATGATACGGCGACCACCGAGATCTACAC', 'min_len': 29, 'max_len': 29, 'regions': None}, {'region_id': 'truseq_read1', 'region_type': 'truseq_read1', 'name': 'Truseq Read 1', 'sequence_type': 'fixed', 'onlist': None, 'sequence': 'TCTTTCCCTACACGACGCTCTTCCGATCT', 'min_len': 10, 'max_len': 10, 'regions': None}, {'region_id': 'R1.fastq.gz', 'region_type': 'fastq', 'name': 'Read 1 FASTQ', 'sequence_type': None, 'onlist': None, 'sequence': 'NNNNNNNNNNNNNNNNNNNNNNNNNNNN', 'min_len': 26, 'max_len': 26, 'regions': [{'region_id': 'barcode', 'region_type': 'barcode', 'name': 'Cell Barcode', 'sequence_type': 'onlist', 'onlist': {'filename': '737K-august-2016.txt.gz', 'md5': None}, 'sequence': 'NNNNNNNNNNNNNNNN', 'min_len': 16, 'max_len': 16, 'regions': None}, {'region_id': 'umi', 'region_type': 'umi', 'name': 'UMI', 'sequence_type': 'random', 'onlist': None, 'sequence': 'NNNNNNNNNNNN', 'min_len': 10, 'max_len': 10, 'regions': None}]}, {'region_id': 'R2.fastq.gz', 'region_type': 'fastq', 'name': 'Read 2 FASTQ', 'sequence_type': None, 'onlist': None, 'sequence': 'X', 'min_len': 1, 'max_len': 98, 'regions': [{'region_id': 'cDNA', 'region_type': 'cDNA', 'name': 'cDNA', 'sequence_type': 'random', 'onlist': None, 'sequence': 'X', 'min_len': 1, 'max_len': 98, 'regions': None}]}, {'region_id': 'truseq_read2', 'region_type': 'truseq_read2', 'name': 'Truseq Read 2', 'sequence_type': 'fixed', 'onlist': None, 'sequence': 'AGATCGGAAGAGCACACGTCTGAACTCCAGTCAC', 'min_len': 34, 'max_len': 34, 'regions': None}, {'region_id': 'I1.fastq.gz', 'region_type': 'fastq', 'name': 'Index Read 2', 'sequence_type': None, 'onlist': None, 'sequence': 'NNNNNNNN', 'min_len': 8, 'max_len': 8, 'regions': [{'region_id': 'index7', 'region_type': 'index7', 'name': 'Truseq Read 2', 'sequence_type': 'onlist', 'onlist': {'filename': 'index7_onlist.txt', 'md5': None}, 'sequence': 'NNNNNNNN', 'min_len': 8, 'max_len': 8, 'regions': None}]}, {'region_id': 'illumina_p7', 'region_type': 'illumina_p7', 'name': 'Illumina P7', 'sequence_type': 'fixed', 'onlist': None, 'sequence': 'ATCTCGTATGCCGTCTTCTGCTTG', 'min_len': 24, 'max_len': 24, 'regions': None}]}]} is not of type 'object' in spec[]\n"
          ]
        }
      ]
    },
    {
      "cell_type": "code",
      "source": [
        "!seqspec index -m RNA -r R1.fastq.gz seqspec/assays/10x-RNA-v3/spec.yaml"
      ],
      "metadata": {
        "id": "NuT_prmr5zmw",
        "colab": {
          "base_uri": "https://localhost:8080/"
        },
        "outputId": "08d9ffec-5408-4caf-e8f2-b13f25bc32a4"
      },
      "execution_count": 5,
      "outputs": [
        {
          "output_type": "stream",
          "name": "stdout",
          "text": [
            "barcode\t0\t16\n",
            "umi\t16\t28\n"
          ]
        }
      ]
    },
    {
      "cell_type": "code",
      "source": [
        "!seqspec index --rev -m RNA -r R2.fastq.gz seqspec/assays/10x-RNA-v3/spec.yaml"
      ],
      "metadata": {
        "id": "qTK_NmaCZwuR",
        "outputId": "432b0083-d60a-432d-807b-2914061f1e7d",
        "colab": {
          "base_uri": "https://localhost:8080/"
        }
      },
      "execution_count": 6,
      "outputs": [
        {
          "output_type": "stream",
          "name": "stdout",
          "text": [
            "cDNA\t0\t98\n"
          ]
        }
      ]
    },
    {
      "cell_type": "code",
      "source": [
        "!seqspec find -m RNA -r barcode seqspec/assays/10x-RNA-v3/spec.yaml"
      ],
      "metadata": {
        "id": "7QSjMqk6ZX-n",
        "outputId": "2d13ceef-d24d-4759-f28f-5b31c59fe279",
        "colab": {
          "base_uri": "https://localhost:8080/"
        }
      },
      "execution_count": 7,
      "outputs": [
        {
          "output_type": "stream",
          "name": "stdout",
          "text": [
            "- !Region\n",
            "  order: 0\n",
            "  region_id: barcode\n",
            "  region_type: barcode\n",
            "  name: Cell Barcode\n",
            "  sequence_type: onlist\n",
            "  sequence: NNNNNNNNNNNNNNNN\n",
            "  min_len: 16\n",
            "  max_len: 16\n",
            "  onlist: !Onlist\n",
            "    filename: 737K-august-2016.txt.gz\n",
            "    md5: null\n",
            "  regions: null\n",
            "  parent_id: R1.fastq.gz\n",
            "\n"
          ]
        }
      ]
    }
  ]
}